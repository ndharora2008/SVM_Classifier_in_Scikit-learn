{
  "nbformat": 4,
  "nbformat_minor": 0,
  "metadata": {
    "colab": {
      "name": "IRISdata_SVM.ipynb",
      "version": "0.3.2",
      "provenance": [],
      "include_colab_link": true
    },
    "kernelspec": {
      "name": "python3",
      "display_name": "Python 3"
    }
  },
  "cells": [
    {
      "cell_type": "markdown",
      "metadata": {
        "id": "view-in-github",
        "colab_type": "text"
      },
      "source": [
        "<a href=\"https://colab.research.google.com/github/ndharora2008/SVM_Classifier_in_Scikit-learn/blob/master/IRISdata_SVM.ipynb\" target=\"_parent\"><img src=\"https://colab.research.google.com/assets/colab-badge.svg\" alt=\"Open In Colab\"/></a>"
      ]
    },
    {
      "cell_type": "code",
      "metadata": {
        "id": "vx7E3xaaGpYj",
        "colab_type": "code",
        "colab": {}
      },
      "source": [
        "from sklearn import datasets\n",
        "from sklearn import svm\n",
        "from sklearn import random_projection\n",
        "import numpy as np\n",
        "iris = datasets.load_iris()\n",
        "digits = datasets.load_digits()"
      ],
      "execution_count": 0,
      "outputs": []
    },
    {
      "cell_type": "code",
      "metadata": {
        "id": "UieIxmaPG31t",
        "colab_type": "code",
        "outputId": "90a40c3b-49cc-4ebb-842b-1c095ee349ba",
        "colab": {
          "base_uri": "https://localhost:8080/",
          "height": 139
        }
      },
      "source": [
        "print(digits.data)"
      ],
      "execution_count": 0,
      "outputs": [
        {
          "output_type": "stream",
          "text": [
            "[[ 0.  0.  5. ...  0.  0.  0.]\n",
            " [ 0.  0.  0. ... 10.  0.  0.]\n",
            " [ 0.  0.  0. ... 16.  9.  0.]\n",
            " ...\n",
            " [ 0.  0.  1. ...  6.  0.  0.]\n",
            " [ 0.  0.  2. ... 12.  0.  0.]\n",
            " [ 0.  0. 10. ... 12.  1.  0.]]\n"
          ],
          "name": "stdout"
        }
      ]
    },
    {
      "cell_type": "code",
      "metadata": {
        "id": "AbY0cCcYGj55",
        "colab_type": "code",
        "outputId": "e6d8e8dd-6b55-4a63-9140-2739c04393cd",
        "colab": {
          "base_uri": "https://localhost:8080/",
          "height": 34
        }
      },
      "source": [
        "print(digits.target)"
      ],
      "execution_count": 0,
      "outputs": [
        {
          "output_type": "stream",
          "text": [
            "[0 1 2 ... 8 9 8]\n"
          ],
          "name": "stdout"
        }
      ]
    },
    {
      "cell_type": "code",
      "metadata": {
        "id": "oFxMwEDKHbkA",
        "colab_type": "code",
        "outputId": "2f8f4d43-3231-4685-fb06-b5f3db055edb",
        "colab": {
          "base_uri": "https://localhost:8080/",
          "height": 156
        }
      },
      "source": [
        "digits.images[0]"
      ],
      "execution_count": 0,
      "outputs": [
        {
          "output_type": "execute_result",
          "data": {
            "text/plain": [
              "array([[ 0.,  0.,  5., 13.,  9.,  1.,  0.,  0.],\n",
              "       [ 0.,  0., 13., 15., 10., 15.,  5.,  0.],\n",
              "       [ 0.,  3., 15.,  2.,  0., 11.,  8.,  0.],\n",
              "       [ 0.,  4., 12.,  0.,  0.,  8.,  8.,  0.],\n",
              "       [ 0.,  5.,  8.,  0.,  0.,  9.,  8.,  0.],\n",
              "       [ 0.,  4., 11.,  0.,  1., 12.,  7.,  0.],\n",
              "       [ 0.,  2., 14.,  5., 10., 12.,  0.,  0.],\n",
              "       [ 0.,  0.,  6., 13., 10.,  0.,  0.,  0.]])"
            ]
          },
          "metadata": {
            "tags": []
          },
          "execution_count": 7
        }
      ]
    },
    {
      "cell_type": "code",
      "metadata": {
        "id": "kZYdgzKGIbv3",
        "colab_type": "code",
        "colab": {}
      },
      "source": [
        "clf = svm.SVC(gamma=0.001, C=100.)"
      ],
      "execution_count": 0,
      "outputs": []
    },
    {
      "cell_type": "code",
      "metadata": {
        "id": "JEIWokK6Qj3T",
        "colab_type": "code",
        "outputId": "cebb91a7-8067-4a05-c373-419f98d7a9f9",
        "colab": {
          "base_uri": "https://localhost:8080/",
          "height": 86
        }
      },
      "source": [
        "clf.fit(digits.data[:-1], digits.target[:-1])  "
      ],
      "execution_count": 0,
      "outputs": [
        {
          "output_type": "execute_result",
          "data": {
            "text/plain": [
              "SVC(C=100.0, cache_size=200, class_weight=None, coef0=0.0,\n",
              "    decision_function_shape='ovr', degree=3, gamma=0.001, kernel='rbf',\n",
              "    max_iter=-1, probability=False, random_state=None, shrinking=True,\n",
              "    tol=0.001, verbose=False)"
            ]
          },
          "metadata": {
            "tags": []
          },
          "execution_count": 12
        }
      ]
    },
    {
      "cell_type": "code",
      "metadata": {
        "id": "b5MSx5pzQ1IJ",
        "colab_type": "code",
        "outputId": "f2eb528d-f763-4589-c0ee-c07cfd76a686",
        "colab": {
          "base_uri": "https://localhost:8080/",
          "height": 139
        }
      },
      "source": [
        "rng=np.random.RandomState(0)\n",
        "X=rng.rand(10,2000)\n",
        "print (X)"
      ],
      "execution_count": 0,
      "outputs": [
        {
          "output_type": "stream",
          "text": [
            "[[0.5488135  0.71518937 0.60276338 ... 0.48010781 0.64386404 0.50177313]\n",
            " [0.81151847 0.47608399 0.52315599 ... 0.83000295 0.93280618 0.30833843]\n",
            " [0.29264205 0.56651827 0.13741443 ... 0.69652287 0.48369661 0.33955073]\n",
            " ...\n",
            " [0.32059506 0.24986687 0.03107279 ... 0.38938909 0.93272    0.33276632]\n",
            " [0.39553738 0.84401749 0.15044175 ... 0.53561083 0.35458205 0.93578099]\n",
            " [0.8140271  0.85133715 0.43113659 ... 0.44645576 0.36012661 0.62588665]]\n"
          ],
          "name": "stdout"
        }
      ]
    },
    {
      "cell_type": "code",
      "metadata": {
        "id": "TNRE4mApvGZN",
        "colab_type": "code",
        "outputId": "e0832c58-9baf-4f48-907d-c7599c176c01",
        "colab": {
          "base_uri": "https://localhost:8080/",
          "height": 34
        }
      },
      "source": [
        "transformer = random_projection.GaussianRandomProjection()\n",
        "X_new = transformer.fit_transform(X)\n",
        "X_new.shape\n",
        "X_new.dtype"
      ],
      "execution_count": 0,
      "outputs": [
        {
          "output_type": "execute_result",
          "data": {
            "text/plain": [
              "dtype('float64')"
            ]
          },
          "metadata": {
            "tags": []
          },
          "execution_count": 23
        }
      ]
    },
    {
      "cell_type": "markdown",
      "metadata": {
        "id": "d31l9p0nbOze",
        "colab_type": "text"
      },
      "source": [
        "**Iris digits dataset prediction SVM classifier Example**"
      ]
    },
    {
      "cell_type": "code",
      "metadata": {
        "id": "V9MC1V0G2XdE",
        "colab_type": "code",
        "outputId": "a83e5eee-edfb-4d3e-ca07-f30136bbc259",
        "colab": {
          "base_uri": "https://localhost:8080/",
          "height": 34
        }
      },
      "source": [
        "from sklearn import datasets\n",
        "from sklearn.svm import SVC\n",
        "iris = datasets.load_iris()\n",
        "clf=SVC(gamma='scale')\n",
        "clf.fit(iris.data, iris.target)\n",
        "\n",
        "list(clf.predict(iris.data[:3]))\n",
        "\n",
        "clf.fit(iris.data, iris.target_names[iris.target])\n",
        "\n",
        "\n",
        "list(clf.predict(iris.data[:3]))\n",
        "\n",
        "\n",
        "\n",
        "\n",
        "\n",
        "\n",
        "\n",
        "\n"
      ],
      "execution_count": 0,
      "outputs": [
        {
          "output_type": "execute_result",
          "data": {
            "text/plain": [
              "['setosa', 'setosa', 'setosa']"
            ]
          },
          "metadata": {
            "tags": []
          },
          "execution_count": 28
        }
      ]
    },
    {
      "cell_type": "code",
      "metadata": {
        "id": "kkPyK7wZ-AEG",
        "colab_type": "code",
        "colab": {
          "base_uri": "https://localhost:8080/",
          "height": 34
        },
        "outputId": "4f4b5859-1556-4872-efaa-39ef4e6321a5"
      },
      "source": [
        "import numpy as np\n",
        "from sklearn import datasets\n",
        "iris=datasets.load_iris()\n",
        "iris_X=iris.data\n",
        "iris_Y=iris.target\n",
        "np.unique(iris_Y)\n"
      ],
      "execution_count": 1,
      "outputs": [
        {
          "output_type": "execute_result",
          "data": {
            "text/plain": [
              "array([0, 1, 2])"
            ]
          },
          "metadata": {
            "tags": []
          },
          "execution_count": 1
        }
      ]
    },
    {
      "cell_type": "markdown",
      "metadata": {
        "id": "h4OjuEF-b5gv",
        "colab_type": "text"
      },
      "source": [
        "**KNearestNeighbor prediction classifier for Iris dataset**"
      ]
    },
    {
      "cell_type": "code",
      "metadata": {
        "id": "JAhabyWSo0-y",
        "colab_type": "code",
        "colab": {
          "base_uri": "https://localhost:8080/",
          "height": 34
        },
        "outputId": "31b0af34-4867-4c22-9e48-ef41c738ceb9"
      },
      "source": [
        "np.random.seed(0)\n",
        "indices=np.random.permutation(len(iris_X))\n",
        "iris_X_train=iris_X[indices[:-10]]\n",
        "iris_Y_train=iris_Y[indices[:-10]]\n",
        "iris_X_test=iris_X[indices[-10:]]\n",
        "iris_Y_test=iris_Y[indices[-10:]]\n",
        "\n",
        "from sklearn.neighbors import KNeighborsClassifier\n",
        "knn=KNeighborsClassifier()\n",
        "knn.fit(iris_X_train,iris_Y_train)\n",
        "knn.predict(iris_X_test)\n",
        "iris_Y_test\n"
      ],
      "execution_count": 6,
      "outputs": [
        {
          "output_type": "execute_result",
          "data": {
            "text/plain": [
              "array([1, 1, 1, 0, 0, 0, 2, 1, 2, 0])"
            ]
          },
          "metadata": {
            "tags": []
          },
          "execution_count": 6
        }
      ]
    },
    {
      "cell_type": "markdown",
      "metadata": {
        "id": "7JXIBvDis_BW",
        "colab_type": "text"
      },
      "source": [
        "**Plot digits classification Exercise:**\n",
        "\n",
        "import datasets , neighbors and linear_model\n",
        "\n",
        "---\n",
        "\n",
        "\n",
        "sklearn.datasets package - sklearn standard package\n",
        "\n",
        "---\n",
        "\n",
        "\n",
        "load_digits() - load and return the digits dataset(Hand written digits dataset)\n",
        "\n",
        "---\n",
        "\n",
        "load_digits(n_class=10, return_X_y=False): returns data(**dictionary like object**) : Bunch or (data, target) : tuple if return_X_y is True , dictionary like object, having attributes data to learn, images- corresponding to each target, \"target_names\"- the classification label for each target name.\n",
        "\n",
        "---\n",
        "\n",
        "calculates length of dictionary via - len(data)\n",
        "\n",
        "---\n",
        "\n",
        "\n",
        "\n"
      ]
    },
    {
      "cell_type": "code",
      "metadata": {
        "id": "3-HJaiaXpkwk",
        "colab_type": "code",
        "colab": {
          "base_uri": "https://localhost:8080/",
          "height": 69
        },
        "outputId": "6e2eecfa-d708-43f1-a171-3226ed770321"
      },
      "source": [
        "print(__doc__)\n",
        "\n",
        "from sklearn import datasets, neighbors, linear_model\n",
        "\n",
        "digits = datasets.load_digits()\n",
        "X_digits = digits.data / digits.data.max()\n",
        "y_digits = digits.target\n",
        "\n",
        "n_samples = len(X_digits)\n",
        "\n",
        "X_train = X_digits[:int(.9 * n_samples)]\n",
        "y_train = y_digits[:int(.9 * n_samples)]\n",
        "X_test = X_digits[int(.9 * n_samples):]\n",
        "y_test = y_digits[int(.9 * n_samples):]\n",
        "\n",
        "knn = neighbors.KNeighborsClassifier()              \n",
        "logistic = linear_model.LogisticRegression(solver='lbfgs', max_iter=1000,\n",
        "                                           multi_class='multinomial')\n",
        "\n",
        "print('KNN score: %f' % knn.fit(X_train, y_train).score(X_test, y_test))\n",
        "print('LogisticRegression score: %f'\n",
        "      % logistic.fit(X_train, y_train).score(X_test, y_test))\n",
        "\n",
        "\n"
      ],
      "execution_count": 10,
      "outputs": [
        {
          "output_type": "stream",
          "text": [
            "Automatically created module for IPython interactive environment\n",
            "KNN score: 0.961111\n",
            "LogisticRegression score: 0.933333\n"
          ],
          "name": "stdout"
        }
      ]
    },
    {
      "cell_type": "code",
      "metadata": {
        "id": "moIazhbXrtCW",
        "colab_type": "code",
        "colab": {}
      },
      "source": [
        ""
      ],
      "execution_count": 0,
      "outputs": []
    }
  ]
}